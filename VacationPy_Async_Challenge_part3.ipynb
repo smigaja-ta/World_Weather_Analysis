{
 "cells": [
  {
   "cell_type": "markdown",
   "metadata": {},
   "source": [
    "## Challenge part 3.  Create a directions layer to draw the route to four cities for your vacation itinerary and then create a marker layer map that has a pop-up markers for the four cities. \n",
    "----\n",
    "1. Import the vacation CSV file. \n",
    "2. From the map above with pick 4 cities that are in close proximity (on the same continent) that the customer would travel to and create a directions layer map.\n",
    "3. For the \"travel_mode\" use either \"DRIVING\", \"BICYCLING\", or \"WALKING\".\n",
    "4. Take a screenshot of the route and save it. \n",
    "5. Then create a marker layer for the four cities. Each city will should have a pop-up marker that contains\n",
    "    - The hotel name\n",
    "    - The city\n",
    "    - The country\n",
    "    - The current weather description and the maximum temperature "
   ]
  },
  {
   "cell_type": "code",
   "execution_count": 12,
   "metadata": {
    "scrolled": true
   },
   "outputs": [
    {
     "ename": "ModuleNotFoundError",
     "evalue": "No module named 'Keras'",
     "output_type": "error",
     "traceback": [
      "\u001b[1;31m---------------------------------------------------------------------------\u001b[0m",
      "\u001b[1;31mModuleNotFoundError\u001b[0m                       Traceback (most recent call last)",
      "\u001b[1;32m<ipython-input-12-b59256d96ee4>\u001b[0m in \u001b[0;36m<module>\u001b[1;34m\u001b[0m\n\u001b[1;32m----> 1\u001b[1;33m \u001b[1;32mimport\u001b[0m \u001b[0mKeras\u001b[0m\u001b[1;33m\u001b[0m\u001b[1;33m\u001b[0m\u001b[0m\n\u001b[0m\u001b[0;32m      2\u001b[0m \u001b[1;33m\u001b[0m\u001b[0m\n",
      "\u001b[1;31mModuleNotFoundError\u001b[0m: No module named 'Keras'"
     ]
    }
   ],
   "source": [
    "import Keras\n",
    "\n"
   ]
  },
  {
   "cell_type": "code",
   "execution_count": null,
   "metadata": {},
   "outputs": [],
   "source": []
  },
  {
   "cell_type": "code",
   "execution_count": null,
   "metadata": {},
   "outputs": [],
   "source": []
  },
  {
   "cell_type": "code",
   "execution_count": null,
   "metadata": {},
   "outputs": [],
   "source": []
  },
  {
   "cell_type": "code",
   "execution_count": null,
   "metadata": {},
   "outputs": [],
   "source": []
  },
  {
   "cell_type": "code",
   "execution_count": null,
   "metadata": {},
   "outputs": [],
   "source": []
  },
  {
   "cell_type": "code",
   "execution_count": null,
   "metadata": {},
   "outputs": [],
   "source": []
  },
  {
   "cell_type": "code",
   "execution_count": null,
   "metadata": {},
   "outputs": [],
   "source": []
  },
  {
   "cell_type": "code",
   "execution_count": null,
   "metadata": {},
   "outputs": [],
   "source": []
  },
  {
   "cell_type": "code",
   "execution_count": 2,
   "metadata": {},
   "outputs": [],
   "source": [
    "%matplotlib notebook\n",
    "# Dependencies and Setup\n",
    "import pandas as pd\n",
    "import requests\n",
    "import gmaps\n",
    "\n",
    "# Import API key\n",
    "#from config import g_key"
   ]
  },
  {
   "cell_type": "code",
   "execution_count": 3,
   "metadata": {},
   "outputs": [],
   "source": [
    "# Configure gmaps\n",
    "gmaps.configure(api_keCgOCO7g-M0\")"
   ]
  },
  {
   "cell_type": "code",
   "execution_count": 4,
   "metadata": {},
   "outputs": [
    {
     "data": {
      "text/html": [
       "<div>\n",
       "<style scoped>\n",
       "    .dataframe tbody tr th:only-of-type {\n",
       "        vertical-align: middle;\n",
       "    }\n",
       "\n",
       "    .dataframe tbody tr th {\n",
       "        vertical-align: top;\n",
       "    }\n",
       "\n",
       "    .dataframe thead th {\n",
       "        text-align: right;\n",
       "    }\n",
       "</style>\n",
       "<table border=\"1\" class=\"dataframe\">\n",
       "  <thead>\n",
       "    <tr style=\"text-align: right;\">\n",
       "      <th></th>\n",
       "      <th>City_ID</th>\n",
       "      <th>City</th>\n",
       "      <th>Country</th>\n",
       "      <th>Max Temp</th>\n",
       "      <th>Current Description</th>\n",
       "      <th>Lat</th>\n",
       "      <th>Lng</th>\n",
       "      <th>Hotel Name</th>\n",
       "    </tr>\n",
       "  </thead>\n",
       "  <tbody>\n",
       "    <tr>\n",
       "      <th>0</th>\n",
       "      <td>2</td>\n",
       "      <td>Sitka</td>\n",
       "      <td>US</td>\n",
       "      <td>90.00</td>\n",
       "      <td>clear sky</td>\n",
       "      <td>37.17</td>\n",
       "      <td>-99.65</td>\n",
       "      <td>NaN</td>\n",
       "    </tr>\n",
       "    <tr>\n",
       "      <th>1</th>\n",
       "      <td>15</td>\n",
       "      <td>Avera</td>\n",
       "      <td>US</td>\n",
       "      <td>86.00</td>\n",
       "      <td>broken clouds</td>\n",
       "      <td>33.19</td>\n",
       "      <td>-82.53</td>\n",
       "      <td>NaN</td>\n",
       "    </tr>\n",
       "    <tr>\n",
       "      <th>2</th>\n",
       "      <td>17</td>\n",
       "      <td>Kapaa</td>\n",
       "      <td>US</td>\n",
       "      <td>82.40</td>\n",
       "      <td>broken clouds</td>\n",
       "      <td>22.08</td>\n",
       "      <td>-159.32</td>\n",
       "      <td>Courtyard by Marriott Kaua'i at Coconut Beach</td>\n",
       "    </tr>\n",
       "    <tr>\n",
       "      <th>3</th>\n",
       "      <td>19</td>\n",
       "      <td>Rock Sound</td>\n",
       "      <td>BS</td>\n",
       "      <td>84.43</td>\n",
       "      <td>overcast clouds</td>\n",
       "      <td>24.90</td>\n",
       "      <td>-76.20</td>\n",
       "      <td>Rock Sound Club</td>\n",
       "    </tr>\n",
       "    <tr>\n",
       "      <th>4</th>\n",
       "      <td>23</td>\n",
       "      <td>Fazilka</td>\n",
       "      <td>IN</td>\n",
       "      <td>86.59</td>\n",
       "      <td>broken clouds</td>\n",
       "      <td>30.41</td>\n",
       "      <td>74.03</td>\n",
       "      <td>Hotel Gulmarg</td>\n",
       "    </tr>\n",
       "  </tbody>\n",
       "</table>\n",
       "</div>"
      ],
      "text/plain": [
       "   City_ID        City Country  Max Temp Current Description    Lat     Lng  \\\n",
       "0        2       Sitka      US     90.00           clear sky  37.17  -99.65   \n",
       "1       15       Avera      US     86.00       broken clouds  33.19  -82.53   \n",
       "2       17       Kapaa      US     82.40       broken clouds  22.08 -159.32   \n",
       "3       19  Rock Sound      BS     84.43     overcast clouds  24.90  -76.20   \n",
       "4       23     Fazilka      IN     86.59       broken clouds  30.41   74.03   \n",
       "\n",
       "                                      Hotel Name  \n",
       "0                                            NaN  \n",
       "1                                            NaN  \n",
       "2  Courtyard by Marriott Kaua'i at Coconut Beach  \n",
       "3                                Rock Sound Club  \n",
       "4                                  Hotel Gulmarg  "
      ]
     },
     "execution_count": 4,
     "metadata": {},
     "output_type": "execute_result"
    }
   ],
   "source": [
    "# Store csv created in part one into a DataFrame\n",
    "vacation_df = pd.read_csv(\"weather_data/vacation_cities.csv\")\n",
    "vacation_df.head()"
   ]
  },
  {
   "cell_type": "code",
   "execution_count": 5,
   "metadata": {},
   "outputs": [],
   "source": [
    "# Using the template to information to the markers for the cities.\n",
    "info_box_template = \"\"\"\n",
    "<dl>\n",
    "<dt>Hotel Name</dt><dd>{Hotel Name}</dd>\n",
    "<dt>City</dt><dd>{City}</dd>\n",
    "<dt>Country</dt><dd>{Country}</dd>\n",
    "<dt>Current Weather</dt><dd>{Current Description} and {Max Temp} °F</dd>\n",
    "</dl>\n",
    "\"\"\"\n",
    "# Store the DataFrame Row\n",
    "hotel_info = [info_box_template.format(**row) for index, row in vacation_df.iterrows()]\n",
    "locations = vacation_df[[\"Lat\", \"Lng\"]]"
   ]
  },
  {
   "cell_type": "code",
   "execution_count": 6,
   "metadata": {},
   "outputs": [
    {
     "data": {
      "text/plain": [
       "['\\n<dl>\\n<dt>Hotel Name</dt><dd>nan</dd>\\n<dt>City</dt><dd>Sitka</dd>\\n<dt>Country</dt><dd>US</dd>\\n<dt>Current Weather</dt><dd>clear sky and 90.0 °F</dd>\\n</dl>\\n',\n",
       " '\\n<dl>\\n<dt>Hotel Name</dt><dd>nan</dd>\\n<dt>City</dt><dd>Avera</dd>\\n<dt>Country</dt><dd>US</dd>\\n<dt>Current Weather</dt><dd>broken clouds and 86.0 °F</dd>\\n</dl>\\n',\n",
       " \"\\n<dl>\\n<dt>Hotel Name</dt><dd>Courtyard by Marriott Kaua'i at Coconut Beach</dd>\\n<dt>City</dt><dd>Kapaa</dd>\\n<dt>Country</dt><dd>US</dd>\\n<dt>Current Weather</dt><dd>broken clouds and 82.4 °F</dd>\\n</dl>\\n\",\n",
       " '\\n<dl>\\n<dt>Hotel Name</dt><dd>Rock Sound Club</dd>\\n<dt>City</dt><dd>Rock Sound</dd>\\n<dt>Country</dt><dd>BS</dd>\\n<dt>Current Weather</dt><dd>overcast clouds and 84.43 °F</dd>\\n</dl>\\n',\n",
       " '\\n<dl>\\n<dt>Hotel Name</dt><dd>Hotel Gulmarg</dd>\\n<dt>City</dt><dd>Fazilka</dd>\\n<dt>Country</dt><dd>IN</dd>\\n<dt>Current Weather</dt><dd>broken clouds and 86.59 °F</dd>\\n</dl>\\n',\n",
       " '\\n<dl>\\n<dt>Hotel Name</dt><dd>Jolysable</dd>\\n<dt>City</dt><dd>Souillac</dd>\\n<dt>Country</dt><dd>FR</dd>\\n<dt>Current Weather</dt><dd>clear sky and 91.4 °F</dd>\\n</dl>\\n',\n",
       " '\\n<dl>\\n<dt>Hotel Name</dt><dd>Village Belart</dd>\\n<dt>City</dt><dd>Yatou</dd>\\n<dt>Country</dt><dd>CM</dd>\\n<dt>Current Weather</dt><dd>broken clouds and 82.4 °F</dd>\\n</dl>\\n',\n",
       " '\\n<dl>\\n<dt>Hotel Name</dt><dd>nan</dd>\\n<dt>City</dt><dd>Gazanjyk</dd>\\n<dt>Country</dt><dd>TM</dd>\\n<dt>Current Weather</dt><dd>clear sky and 84.97 °F</dd>\\n</dl>\\n',\n",
       " '\\n<dl>\\n<dt>Hotel Name</dt><dd>Stay Suites of America-Dodge City</dd>\\n<dt>City</dt><dd>Dodge City</dd>\\n<dt>Country</dt><dd>US</dd>\\n<dt>Current Weather</dt><dd>clear sky and 90.0 °F</dd>\\n</dl>\\n',\n",
       " '\\n<dl>\\n<dt>Hotel Name</dt><dd>Rumbo al llano \"www.musicallanera.co\"</dd>\\n<dt>City</dt><dd>Villa Maria</dd>\\n<dt>Country</dt><dd>CO</dd>\\n<dt>Current Weather</dt><dd>broken clouds and 80.6 °F</dd>\\n</dl>\\n',\n",
       " '\\n<dl>\\n<dt>Hotel Name</dt><dd>Elysium Hotel</dd>\\n<dt>City</dt><dd>Emba</dd>\\n<dt>Country</dt><dd>CY</dd>\\n<dt>Current Weather</dt><dd>clear sky and 82.4 °F</dd>\\n</dl>\\n',\n",
       " '\\n<dl>\\n<dt>Hotel Name</dt><dd>Arribas Sintra Hotel</dd>\\n<dt>City</dt><dd>Colares</dd>\\n<dt>Country</dt><dd>PT</dd>\\n<dt>Current Weather</dt><dd>few clouds and 84.2 °F</dd>\\n</dl>\\n',\n",
       " '\\n<dl>\\n<dt>Hotel Name</dt><dd>Monticello Home</dd>\\n<dt>City</dt><dd>Killin</dd>\\n<dt>Country</dt><dd>US</dd>\\n<dt>Current Weather</dt><dd>broken clouds and 86.0 °F</dd>\\n</dl>\\n',\n",
       " '\\n<dl>\\n<dt>Hotel Name</dt><dd>Holiday Inn Express Lompoc</dd>\\n<dt>City</dt><dd>Lompoc</dd>\\n<dt>Country</dt><dd>US</dd>\\n<dt>Current Weather</dt><dd>mist and 82.0 °F</dd>\\n</dl>\\n',\n",
       " \"\\n<dl>\\n<dt>Hotel Name</dt><dd>Kanhai's Center</dd>\\n<dt>City</dt><dd>Georgetown</dd>\\n<dt>Country</dt><dd>GY</dd>\\n<dt>Current Weather</dt><dd>scattered clouds and 93.2 °F</dd>\\n</dl>\\n\",\n",
       " '\\n<dl>\\n<dt>Hotel Name</dt><dd>Hôtel Les Jardins De Sainte Maxime</dd>\\n<dt>City</dt><dd>Sainte-Maxime</dd>\\n<dt>Country</dt><dd>FR</dd>\\n<dt>Current Weather</dt><dd>clear sky and 89.01 °F</dd>\\n</dl>\\n',\n",
       " '\\n<dl>\\n<dt>Hotel Name</dt><dd>Best Western Plus Hotel Les Rives Du Ter</dd>\\n<dt>City</dt><dd>Ploemeur</dd>\\n<dt>Country</dt><dd>FR</dd>\\n<dt>Current Weather</dt><dd>scattered clouds and 82.99 °F</dd>\\n</dl>\\n',\n",
       " '\\n<dl>\\n<dt>Hotel Name</dt><dd>nan</dd>\\n<dt>City</dt><dd>Coahuayana</dd>\\n<dt>Country</dt><dd>MX</dd>\\n<dt>Current Weather</dt><dd>overcast clouds and 82.81 °F</dd>\\n</dl>\\n',\n",
       " '\\n<dl>\\n<dt>Hotel Name</dt><dd>nan</dd>\\n<dt>City</dt><dd>Araouane</dd>\\n<dt>Country</dt><dd>ML</dd>\\n<dt>Current Weather</dt><dd>overcast clouds and 93.79 °F</dd>\\n</dl>\\n',\n",
       " '\\n<dl>\\n<dt>Hotel Name</dt><dd>منتزه النخلة المضيئة</dd>\\n<dt>City</dt><dd>Sabha</dd>\\n<dt>Country</dt><dd>LY</dd>\\n<dt>Current Weather</dt><dd>clear sky and 89.65 °F</dd>\\n</dl>\\n',\n",
       " '\\n<dl>\\n<dt>Hotel Name</dt><dd>Hotel Rio das Pedras</dd>\\n<dt>City</dt><dd>Campo Formoso</dd>\\n<dt>Country</dt><dd>BR</dd>\\n<dt>Current Weather</dt><dd>broken clouds and 80.65 °F</dd>\\n</dl>\\n',\n",
       " '\\n<dl>\\n<dt>Hotel Name</dt><dd>Hôtel Château de la Tour</dd>\\n<dt>City</dt><dd>Saint-Joseph</dd>\\n<dt>Country</dt><dd>FR</dd>\\n<dt>Current Weather</dt><dd>clear sky and 89.6 °F</dd>\\n</dl>\\n',\n",
       " '\\n<dl>\\n<dt>Hotel Name</dt><dd>nan</dd>\\n<dt>City</dt><dd>Marzuq</dd>\\n<dt>Country</dt><dd>YE</dd>\\n<dt>Current Weather</dt><dd>scattered clouds and 84.25 °F</dd>\\n</dl>\\n',\n",
       " '\\n<dl>\\n<dt>Hotel Name</dt><dd>Beachside Getaway Suites</dd>\\n<dt>City</dt><dd>Loiza</dd>\\n<dt>Country</dt><dd>PR</dd>\\n<dt>Current Weather</dt><dd>haze and 91.99 °F</dd>\\n</dl>\\n',\n",
       " '\\n<dl>\\n<dt>Hotel Name</dt><dd>Hôtel Le Dronmi</dd>\\n<dt>City</dt><dd>Cayenne</dd>\\n<dt>Country</dt><dd>GF</dd>\\n<dt>Current Weather</dt><dd>clear sky and 91.4 °F</dd>\\n</dl>\\n',\n",
       " '\\n<dl>\\n<dt>Hotel Name</dt><dd>nan</dd>\\n<dt>City</dt><dd>Bekhtery</dd>\\n<dt>Country</dt><dd>UA</dd>\\n<dt>Current Weather</dt><dd>clear sky and 82.4 °F</dd>\\n</dl>\\n',\n",
       " '\\n<dl>\\n<dt>Hotel Name</dt><dd>Lasa Heights Hotel</dd>\\n<dt>City</dt><dd>Lasa</dd>\\n<dt>Country</dt><dd>CY</dd>\\n<dt>Current Weather</dt><dd>clear sky and 82.4 °F</dd>\\n</dl>\\n',\n",
       " '\\n<dl>\\n<dt>Hotel Name</dt><dd>Sur Plaza Hotel</dd>\\n<dt>City</dt><dd>Sur</dd>\\n<dt>Country</dt><dd>OM</dd>\\n<dt>Current Weather</dt><dd>few clouds and 84.61 °F</dd>\\n</dl>\\n',\n",
       " '\\n<dl>\\n<dt>Hotel Name</dt><dd>Manoir Du Bonheur</dd>\\n<dt>City</dt><dd>Saint-Francois</dd>\\n<dt>Country</dt><dd>FR</dd>\\n<dt>Current Weather</dt><dd>clear sky and 91.4 °F</dd>\\n</dl>\\n',\n",
       " '\\n<dl>\\n<dt>Hotel Name</dt><dd>Scoop Guest House</dd>\\n<dt>City</dt><dd>Hithadhoo</dd>\\n<dt>Country</dt><dd>MV</dd>\\n<dt>Current Weather</dt><dd>overcast clouds and 82.63 °F</dd>\\n</dl>\\n',\n",
       " '\\n<dl>\\n<dt>Hotel Name</dt><dd>nan</dd>\\n<dt>City</dt><dd>Pimentel</dd>\\n<dt>Country</dt><dd>BR</dd>\\n<dt>Current Weather</dt><dd>broken clouds and 93.07 °F</dd>\\n</dl>\\n',\n",
       " \"\\n<dl>\\n<dt>Hotel Name</dt><dd>Marriott's Ko Olina Beach Club</dd>\\n<dt>City</dt><dd>Makakilo City</dd>\\n<dt>Country</dt><dd>US</dd>\\n<dt>Current Weather</dt><dd>shower rain and 80.6 °F</dd>\\n</dl>\\n\",\n",
       " '\\n<dl>\\n<dt>Hotel Name</dt><dd>Aracati Hotel</dd>\\n<dt>City</dt><dd>Tefe</dd>\\n<dt>Country</dt><dd>BR</dd>\\n<dt>Current Weather</dt><dd>scattered clouds and 87.8 °F</dd>\\n</dl>\\n',\n",
       " '\\n<dl>\\n<dt>Hotel Name</dt><dd>Curubo Hotel</dd>\\n<dt>City</dt><dd>Garowe</dd>\\n<dt>Country</dt><dd>SO</dd>\\n<dt>Current Weather</dt><dd>broken clouds and 84.25 °F</dd>\\n</dl>\\n',\n",
       " '\\n<dl>\\n<dt>Hotel Name</dt><dd>Hotel Monte Mulini</dd>\\n<dt>City</dt><dd>Rovinj</dd>\\n<dt>Country</dt><dd>HR</dd>\\n<dt>Current Weather</dt><dd>clear sky and 82.99 °F</dd>\\n</dl>\\n',\n",
       " '\\n<dl>\\n<dt>Hotel Name</dt><dd>Horadiz Olympic Center</dd>\\n<dt>City</dt><dd>Horadiz</dd>\\n<dt>Country</dt><dd>AZ</dd>\\n<dt>Current Weather</dt><dd>clear sky and 80.6 °F</dd>\\n</dl>\\n',\n",
       " '\\n<dl>\\n<dt>Hotel Name</dt><dd>Southern Beach Hotel & Resort Okinawa</dd>\\n<dt>City</dt><dd>Itoman</dd>\\n<dt>Country</dt><dd>JP</dd>\\n<dt>Current Weather</dt><dd>few clouds and 84.2 °F</dd>\\n</dl>\\n',\n",
       " '\\n<dl>\\n<dt>Hotel Name</dt><dd>Motel \"El Lago\"</dd>\\n<dt>City</dt><dd>Bauta</dd>\\n<dt>Country</dt><dd>CU</dd>\\n<dt>Current Weather</dt><dd>scattered clouds and 89.6 °F</dd>\\n</dl>\\n',\n",
       " '\\n<dl>\\n<dt>Hotel Name</dt><dd>nan</dd>\\n<dt>City</dt><dd>Gat</dd>\\n<dt>Country</dt><dd>SN</dd>\\n<dt>Current Weather</dt><dd>broken clouds and 89.6 °F</dd>\\n</dl>\\n',\n",
       " '\\n<dl>\\n<dt>Hotel Name</dt><dd>Pousada Avenida</dd>\\n<dt>City</dt><dd>Portel</dd>\\n<dt>Country</dt><dd>BR</dd>\\n<dt>Current Weather</dt><dd>broken clouds and 94.69 °F</dd>\\n</dl>\\n',\n",
       " '\\n<dl>\\n<dt>Hotel Name</dt><dd>Llogora Tourist Village</dd>\\n<dt>City</dt><dd>Dukat</dd>\\n<dt>Country</dt><dd>AL</dd>\\n<dt>Current Weather</dt><dd>scattered clouds and 84.99 °F</dd>\\n</dl>\\n',\n",
       " '\\n<dl>\\n<dt>Hotel Name</dt><dd>Nebitchi Hotel</dd>\\n<dt>City</dt><dd>Balkanabat</dd>\\n<dt>Country</dt><dd>TM</dd>\\n<dt>Current Weather</dt><dd>clear sky and 87.85 °F</dd>\\n</dl>\\n',\n",
       " '\\n<dl>\\n<dt>Hotel Name</dt><dd>Hotel Curaçau</dd>\\n<dt>City</dt><dd>Ribas Do Rio Pardo</dd>\\n<dt>Country</dt><dd>BR</dd>\\n<dt>Current Weather</dt><dd>scattered clouds and 94.69 °F</dd>\\n</dl>\\n',\n",
       " '\\n<dl>\\n<dt>Hotel Name</dt><dd>Yunque Mar Beach Hotel</dd>\\n<dt>City</dt><dd>Luquillo</dd>\\n<dt>Country</dt><dd>PR</dd>\\n<dt>Current Weather</dt><dd>haze and 91.99 °F</dd>\\n</dl>\\n',\n",
       " '\\n<dl>\\n<dt>Hotel Name</dt><dd>Lua Mansa Pousada</dd>\\n<dt>City</dt><dd>Cabedelo</dd>\\n<dt>Country</dt><dd>BR</dd>\\n<dt>Current Weather</dt><dd>broken clouds and 80.6 °F</dd>\\n</dl>\\n',\n",
       " '\\n<dl>\\n<dt>Hotel Name</dt><dd>Parkside By Gentry</dd>\\n<dt>City</dt><dd>Ewa Beach</dd>\\n<dt>Country</dt><dd>US</dd>\\n<dt>Current Weather</dt><dd>shower rain and 80.6 °F</dd>\\n</dl>\\n',\n",
       " '\\n<dl>\\n<dt>Hotel Name</dt><dd>Hotel Classic</dd>\\n<dt>City</dt><dd>Inhumas</dd>\\n<dt>Country</dt><dd>BR</dd>\\n<dt>Current Weather</dt><dd>few clouds and 89.6 °F</dd>\\n</dl>\\n',\n",
       " '\\n<dl>\\n<dt>Hotel Name</dt><dd>nan</dd>\\n<dt>City</dt><dd>Champerico</dd>\\n<dt>Country</dt><dd>MX</dd>\\n<dt>Current Weather</dt><dd>broken clouds and 87.8 °F</dd>\\n</dl>\\n',\n",
       " '\\n<dl>\\n<dt>Hotel Name</dt><dd>紫心樓</dd>\\n<dt>City</dt><dd>Xinzhi</dd>\\n<dt>Country</dt><dd>TW</dd>\\n<dt>Current Weather</dt><dd>few clouds and 82.99 °F</dd>\\n</dl>\\n',\n",
       " \"\\n<dl>\\n<dt>Hotel Name</dt><dd>Auberge d'Azel</dd>\\n<dt>City</dt><dd>Agadez</dd>\\n<dt>Country</dt><dd>NE</dd>\\n<dt>Current Weather</dt><dd>thunderstorm and 86.0 °F</dd>\\n</dl>\\n\",\n",
       " '\\n<dl>\\n<dt>Hotel Name</dt><dd>Haris Hotel</dd>\\n<dt>City</dt><dd>Khaniotis</dd>\\n<dt>Country</dt><dd>GR</dd>\\n<dt>Current Weather</dt><dd>clear sky and 88.0 °F</dd>\\n</dl>\\n',\n",
       " '\\n<dl>\\n<dt>Hotel Name</dt><dd>ALETHEIA Appartement Sinnamary</dd>\\n<dt>City</dt><dd>Sinnamary</dd>\\n<dt>Country</dt><dd>GF</dd>\\n<dt>Current Weather</dt><dd>clear sky and 82.99 °F</dd>\\n</dl>\\n',\n",
       " '\\n<dl>\\n<dt>Hotel Name</dt><dd>Motel Fantasy Star</dd>\\n<dt>City</dt><dd>Carolina</dd>\\n<dt>Country</dt><dd>PR</dd>\\n<dt>Current Weather</dt><dd>haze and 91.99 °F</dd>\\n</dl>\\n',\n",
       " '\\n<dl>\\n<dt>Hotel Name</dt><dd>Hotel La Bitta</dd>\\n<dt>City</dt><dd>Tortoli</dd>\\n<dt>Country</dt><dd>IT</dd>\\n<dt>Current Weather</dt><dd>scattered clouds and 86.0 °F</dd>\\n</dl>\\n',\n",
       " '\\n<dl>\\n<dt>Hotel Name</dt><dd>Heraclea Hotel Residence</dd>\\n<dt>City</dt><dd>Policoro</dd>\\n<dt>Country</dt><dd>IT</dd>\\n<dt>Current Weather</dt><dd>scattered clouds and 89.01 °F</dd>\\n</dl>\\n',\n",
       " '\\n<dl>\\n<dt>Hotel Name</dt><dd>Courtyard by Marriott Farmington</dd>\\n<dt>City</dt><dd>Farmington</dd>\\n<dt>Country</dt><dd>US</dd>\\n<dt>Current Weather</dt><dd>clear sky and 86.0 °F</dd>\\n</dl>\\n',\n",
       " '\\n<dl>\\n<dt>Hotel Name</dt><dd>Paradise Bay Resort</dd>\\n<dt>City</dt><dd>Ahuimanu</dd>\\n<dt>Country</dt><dd>US</dd>\\n<dt>Current Weather</dt><dd>shower rain and 80.6 °F</dd>\\n</dl>\\n',\n",
       " '\\n<dl>\\n<dt>Hotel Name</dt><dd>PARQUE ECOTURISTICO QUILIZ</dd>\\n<dt>City</dt><dd>San Jose De Rio Tinto</dd>\\n<dt>Country</dt><dd>HN</dd>\\n<dt>Current Weather</dt><dd>scattered clouds and 84.25 °F</dd>\\n</dl>\\n',\n",
       " '\\n<dl>\\n<dt>Hotel Name</dt><dd>Apart Hotel Rio Xingu</dd>\\n<dt>City</dt><dd>Sao Felix Do Xingu</dd>\\n<dt>Country</dt><dd>BR</dd>\\n<dt>Current Weather</dt><dd>scattered clouds and 94.69 °F</dd>\\n</dl>\\n',\n",
       " '\\n<dl>\\n<dt>Hotel Name</dt><dd>Forte Oil - Old Lorry Park</dd>\\n<dt>City</dt><dd>Gashua</dd>\\n<dt>Country</dt><dd>NG</dd>\\n<dt>Current Weather</dt><dd>broken clouds and 84.25 °F</dd>\\n</dl>\\n',\n",
       " '\\n<dl>\\n<dt>Hotel Name</dt><dd>Hotel & Restaurant \"Waldmühle\"</dd>\\n<dt>City</dt><dd>Warmbad</dd>\\n<dt>Country</dt><dd>DE</dd>\\n<dt>Current Weather</dt><dd>scattered clouds and 82.0 °F</dd>\\n</dl>\\n',\n",
       " '\\n<dl>\\n<dt>Hotel Name</dt><dd>Hotel Restaurant Itzumer Pass</dd>\\n<dt>City</dt><dd>Marienburg</dd>\\n<dt>Country</dt><dd>DE</dd>\\n<dt>Current Weather</dt><dd>clear sky and 91.4 °F</dd>\\n</dl>\\n',\n",
       " '\\n<dl>\\n<dt>Hotel Name</dt><dd>Hotel Iparana Paradise</dd>\\n<dt>City</dt><dd>Vila Velha</dd>\\n<dt>Country</dt><dd>BR</dd>\\n<dt>Current Weather</dt><dd>few clouds and 86.0 °F</dd>\\n</dl>\\n',\n",
       " '\\n<dl>\\n<dt>Hotel Name</dt><dd>Atlantis Hotel</dd>\\n<dt>City</dt><dd>Bathsheba</dd>\\n<dt>Country</dt><dd>BB</dd>\\n<dt>Current Weather</dt><dd>scattered clouds and 84.2 °F</dd>\\n</dl>\\n',\n",
       " '\\n<dl>\\n<dt>Hotel Name</dt><dd>Parkir Mobil Wisata CAS Water Park</dd>\\n<dt>City</dt><dd>Karaton</dd>\\n<dt>Country</dt><dd>ID</dd>\\n<dt>Current Weather</dt><dd>haze and 80.6 °F</dd>\\n</dl>\\n',\n",
       " '\\n<dl>\\n<dt>Hotel Name</dt><dd>Pontal Praia Hotel</dd>\\n<dt>City</dt><dd>Ilheus</dd>\\n<dt>Country</dt><dd>BR</dd>\\n<dt>Current Weather</dt><dd>scattered clouds and 80.6 °F</dd>\\n</dl>\\n',\n",
       " '\\n<dl>\\n<dt>Hotel Name</dt><dd>The Melosa Resort&Spa</dd>\\n<dt>City</dt><dd>Roccastrada</dd>\\n<dt>Country</dt><dd>IT</dd>\\n<dt>Current Weather</dt><dd>few clouds and 89.01 °F</dd>\\n</dl>\\n',\n",
       " '\\n<dl>\\n<dt>Hotel Name</dt><dd>Vahmoneh Lodge Vanimo</dd>\\n<dt>City</dt><dd>Vanimo</dd>\\n<dt>Country</dt><dd>PG</dd>\\n<dt>Current Weather</dt><dd>overcast clouds and 81.01 °F</dd>\\n</dl>\\n',\n",
       " '\\n<dl>\\n<dt>Hotel Name</dt><dd>Hotel Garda</dd>\\n<dt>City</dt><dd>Nago</dd>\\n<dt>Country</dt><dd>IT</dd>\\n<dt>Current Weather</dt><dd>clear sky and 84.99 °F</dd>\\n</dl>\\n',\n",
       " \"\\n<dl>\\n<dt>Hotel Name</dt><dd>Residence 'I Delfini'</dd>\\n<dt>City</dt><dd>Vila Do Maio</dd>\\n<dt>Country</dt><dd>CV</dd>\\n<dt>Current Weather</dt><dd>broken clouds and 84.2 °F</dd>\\n</dl>\\n\",\n",
       " '\\n<dl>\\n<dt>Hotel Name</dt><dd>Ecos Hotel Conforto</dd>\\n<dt>City</dt><dd>Porto Velho</dd>\\n<dt>Country</dt><dd>BR</dd>\\n<dt>Current Weather</dt><dd>smoke and 89.6 °F</dd>\\n</dl>\\n',\n",
       " '\\n<dl>\\n<dt>Hotel Name</dt><dd>Ramada Plaza Chibi</dd>\\n<dt>City</dt><dd>Puqi</dd>\\n<dt>Country</dt><dd>CN</dd>\\n<dt>Current Weather</dt><dd>overcast clouds and 80.47 °F</dd>\\n</dl>\\n',\n",
       " '\\n<dl>\\n<dt>Hotel Name</dt><dd>Hotel La Ballena Azul</dd>\\n<dt>City</dt><dd>Santa Marta</dd>\\n<dt>Country</dt><dd>CO</dd>\\n<dt>Current Weather</dt><dd>scattered clouds and 89.6 °F</dd>\\n</dl>\\n',\n",
       " '\\n<dl>\\n<dt>Hotel Name</dt><dd>Rancho Crepusculo</dd>\\n<dt>City</dt><dd>Nisia Floresta</dd>\\n<dt>Country</dt><dd>BR</dd>\\n<dt>Current Weather</dt><dd>scattered clouds and 84.2 °F</dd>\\n</dl>\\n',\n",
       " '\\n<dl>\\n<dt>Hotel Name</dt><dd>nan</dd>\\n<dt>City</dt><dd>Paptalaya</dd>\\n<dt>Country</dt><dd>HN</dd>\\n<dt>Current Weather</dt><dd>haze and 89.6 °F</dd>\\n</dl>\\n',\n",
       " '\\n<dl>\\n<dt>Hotel Name</dt><dd>YAFA</dd>\\n<dt>City</dt><dd>Lahij</dd>\\n<dt>Country</dt><dd>YE</dd>\\n<dt>Current Weather</dt><dd>few clouds and 90.19 °F</dd>\\n</dl>\\n',\n",
       " '\\n<dl>\\n<dt>Hotel Name</dt><dd>Orient Apartments</dd>\\n<dt>City</dt><dd>Nizwa</dd>\\n<dt>Country</dt><dd>OM</dd>\\n<dt>Current Weather</dt><dd>overcast clouds and 89.29 °F</dd>\\n</dl>\\n',\n",
       " '\\n<dl>\\n<dt>Hotel Name</dt><dd>Hotel Pineda</dd>\\n<dt>City</dt><dd>Zirandaro</dd>\\n<dt>Country</dt><dd>MX</dd>\\n<dt>Current Weather</dt><dd>overcast clouds and 88.93 °F</dd>\\n</dl>\\n',\n",
       " '\\n<dl>\\n<dt>Hotel Name</dt><dd>nan</dd>\\n<dt>City</dt><dd>Tanout</dd>\\n<dt>Country</dt><dd>NE</dd>\\n<dt>Current Weather</dt><dd>overcast clouds and 88.39 °F</dd>\\n</dl>\\n',\n",
       " '\\n<dl>\\n<dt>Hotel Name</dt><dd>Establo San Rafael B&B</dd>\\n<dt>City</dt><dd>Santa Cecilia</dd>\\n<dt>Country</dt><dd>CR</dd>\\n<dt>Current Weather</dt><dd>clear sky and 84.2 °F</dd>\\n</dl>\\n',\n",
       " '\\n<dl>\\n<dt>Hotel Name</dt><dd>تعمیرات و موبایل فروشی انصاف</dd>\\n<dt>City</dt><dd>Zaranj</dd>\\n<dt>Country</dt><dd>AF</dd>\\n<dt>Current Weather</dt><dd>clear sky and 87.8 °F</dd>\\n</dl>\\n',\n",
       " '\\n<dl>\\n<dt>Hotel Name</dt><dd>nan</dd>\\n<dt>City</dt><dd>Saint George</dd>\\n<dt>Country</dt><dd>GR</dd>\\n<dt>Current Weather</dt><dd>few clouds and 88.0 °F</dd>\\n</dl>\\n',\n",
       " '\\n<dl>\\n<dt>Hotel Name</dt><dd>nan</dd>\\n<dt>City</dt><dd>Perieti</dd>\\n<dt>Country</dt><dd>RO</dd>\\n<dt>Current Weather</dt><dd>clear sky and 87.01 °F</dd>\\n</dl>\\n',\n",
       " '\\n<dl>\\n<dt>Hotel Name</dt><dd>Hotel Novotel Dakar</dd>\\n<dt>City</dt><dd>Dakar</dd>\\n<dt>Country</dt><dd>SN</dd>\\n<dt>Current Weather</dt><dd>light rain and 82.4 °F</dd>\\n</dl>\\n',\n",
       " '\\n<dl>\\n<dt>Hotel Name</dt><dd>Motel Tunel do Tempo</dd>\\n<dt>City</dt><dd>Formosa</dd>\\n<dt>Country</dt><dd>BR</dd>\\n<dt>Current Weather</dt><dd>scattered clouds and 82.45 °F</dd>\\n</dl>\\n',\n",
       " '\\n<dl>\\n<dt>Hotel Name</dt><dd>Hotel Aconcagua</dd>\\n<dt>City</dt><dd>Presidencia Roque Saenz Pena</dd>\\n<dt>Country</dt><dd>AR</dd>\\n<dt>Current Weather</dt><dd>few clouds and 83.35 °F</dd>\\n</dl>\\n',\n",
       " '\\n<dl>\\n<dt>Hotel Name</dt><dd>APUFRAM</dd>\\n<dt>City</dt><dd>San Jose</dd>\\n<dt>Country</dt><dd>HN</dd>\\n<dt>Current Weather</dt><dd>scattered clouds and 87.49 °F</dd>\\n</dl>\\n',\n",
       " '\\n<dl>\\n<dt>Hotel Name</dt><dd>فندق مزدة الكبير</dd>\\n<dt>City</dt><dd>Mizdah</dd>\\n<dt>Country</dt><dd>LY</dd>\\n<dt>Current Weather</dt><dd>clear sky and 82.63 °F</dd>\\n</dl>\\n',\n",
       " '\\n<dl>\\n<dt>Hotel Name</dt><dd>Hotel Peace Land Ishigakijima</dd>\\n<dt>City</dt><dd>Ishigaki</dd>\\n<dt>Country</dt><dd>JP</dd>\\n<dt>Current Weather</dt><dd>clear sky and 82.63 °F</dd>\\n</dl>\\n',\n",
       " '\\n<dl>\\n<dt>Hotel Name</dt><dd>Maison KLOKOU Benjamino Didino</dd>\\n<dt>City</dt><dd>Tabligbo</dd>\\n<dt>Country</dt><dd>TG</dd>\\n<dt>Current Weather</dt><dd>few clouds and 80.6 °F</dd>\\n</dl>\\n',\n",
       " '\\n<dl>\\n<dt>Hotel Name</dt><dd>Ladawan Boutique Hotel</dd>\\n<dt>City</dt><dd>Bang Saphan</dd>\\n<dt>Country</dt><dd>TH</dd>\\n<dt>Current Weather</dt><dd>overcast clouds and 80.65 °F</dd>\\n</dl>\\n',\n",
       " '\\n<dl>\\n<dt>Hotel Name</dt><dd>Agua Hotels Vale Da Lapa Lagoa</dd>\\n<dt>City</dt><dd>Lagoa</dd>\\n<dt>Country</dt><dd>PT</dd>\\n<dt>Current Weather</dt><dd>few clouds and 80.01 °F</dd>\\n</dl>\\n',\n",
       " '\\n<dl>\\n<dt>Hotel Name</dt><dd>nan</dd>\\n<dt>City</dt><dd>Keti Bandar</dd>\\n<dt>Country</dt><dd>PK</dd>\\n<dt>Current Weather</dt><dd>broken clouds and 80.65 °F</dd>\\n</dl>\\n',\n",
       " '\\n<dl>\\n<dt>Hotel Name</dt><dd>Holiday Inn Express & Suites Tucumcari</dd>\\n<dt>City</dt><dd>Tucumcari</dd>\\n<dt>Country</dt><dd>US</dd>\\n<dt>Current Weather</dt><dd>clear sky and 95.0 °F</dd>\\n</dl>\\n',\n",
       " '\\n<dl>\\n<dt>Hotel Name</dt><dd>nan</dd>\\n<dt>City</dt><dd>Saquena</dd>\\n<dt>Country</dt><dd>PE</dd>\\n<dt>Current Weather</dt><dd>scattered clouds and 91.27 °F</dd>\\n</dl>\\n',\n",
       " '\\n<dl>\\n<dt>Hotel Name</dt><dd>Hotel Los Naranjos</dd>\\n<dt>City</dt><dd>Lazaro Cardenas</dd>\\n<dt>Country</dt><dd>MX</dd>\\n<dt>Current Weather</dt><dd>clear sky and 93.0 °F</dd>\\n</dl>\\n',\n",
       " '\\n<dl>\\n<dt>Hotel Name</dt><dd>nan</dd>\\n<dt>City</dt><dd>Sidi Ali</dd>\\n<dt>Country</dt><dd>DZ</dd>\\n<dt>Current Weather</dt><dd>overcast clouds and 87.31 °F</dd>\\n</dl>\\n',\n",
       " '\\n<dl>\\n<dt>Hotel Name</dt><dd>Crewe Hall</dd>\\n<dt>City</dt><dd>Crewe</dd>\\n<dt>Country</dt><dd>GB</dd>\\n<dt>Current Weather</dt><dd>clear sky and 82.0 °F</dd>\\n</dl>\\n',\n",
       " '\\n<dl>\\n<dt>Hotel Name</dt><dd>Jhullan House Khadro</dd>\\n<dt>City</dt><dd>Khadro</dd>\\n<dt>Country</dt><dd>PK</dd>\\n<dt>Current Weather</dt><dd>broken clouds and 93.2 °F</dd>\\n</dl>\\n',\n",
       " '\\n<dl>\\n<dt>Hotel Name</dt><dd>HOTEL TAKUTU</dd>\\n<dt>City</dt><dd>Bonfim</dd>\\n<dt>Country</dt><dd>GY</dd>\\n<dt>Current Weather</dt><dd>broken clouds and 91.27 °F</dd>\\n</dl>\\n',\n",
       " '\\n<dl>\\n<dt>Hotel Name</dt><dd>Villaggio Albergo Le Tre Isole</dd>\\n<dt>City</dt><dd>Magione</dd>\\n<dt>Country</dt><dd>IT</dd>\\n<dt>Current Weather</dt><dd>clear sky and 82.4 °F</dd>\\n</dl>\\n',\n",
       " '\\n<dl>\\n<dt>Hotel Name</dt><dd>Butterfly Beach Hotel</dd>\\n<dt>City</dt><dd>Oistins</dd>\\n<dt>Country</dt><dd>BB</dd>\\n<dt>Current Weather</dt><dd>scattered clouds and 84.2 °F</dd>\\n</dl>\\n',\n",
       " '\\n<dl>\\n<dt>Hotel Name</dt><dd>Courtyard by Marriott Fort Smith Downtown</dd>\\n<dt>City</dt><dd>Fort Smith</dd>\\n<dt>Country</dt><dd>US</dd>\\n<dt>Current Weather</dt><dd>few clouds and 91.99 °F</dd>\\n</dl>\\n',\n",
       " '\\n<dl>\\n<dt>Hotel Name</dt><dd>Nusa Island Retreat</dd>\\n<dt>City</dt><dd>Kavieng</dd>\\n<dt>Country</dt><dd>PG</dd>\\n<dt>Current Weather</dt><dd>scattered clouds and 83.35 °F</dd>\\n</dl>\\n',\n",
       " '\\n<dl>\\n<dt>Hotel Name</dt><dd>La Vignazza B&B</dd>\\n<dt>City</dt><dd>Pachino</dd>\\n<dt>Country</dt><dd>IT</dd>\\n<dt>Current Weather</dt><dd>few clouds and 86.0 °F</dd>\\n</dl>\\n',\n",
       " '\\n<dl>\\n<dt>Hotel Name</dt><dd>Auberge des Moissons</dd>\\n<dt>City</dt><dd>Saint-Pierre</dd>\\n<dt>Country</dt><dd>FR</dd>\\n<dt>Current Weather</dt><dd>clear sky and 91.99 °F</dd>\\n</dl>\\n',\n",
       " '\\n<dl>\\n<dt>Hotel Name</dt><dd>CeBlue Villas & Beach Resort</dd>\\n<dt>City</dt><dd>The Valley</dd>\\n<dt>Country</dt><dd>AI</dd>\\n<dt>Current Weather</dt><dd>haze and 91.4 °F</dd>\\n</dl>\\n',\n",
       " '\\n<dl>\\n<dt>Hotel Name</dt><dd>Pałac Łazienki II w Ciechocinku</dd>\\n<dt>City</dt><dd>Ciechocinek</dd>\\n<dt>Country</dt><dd>PL</dd>\\n<dt>Current Weather</dt><dd>clear sky and 86.0 °F</dd>\\n</dl>\\n',\n",
       " '\\n<dl>\\n<dt>Hotel Name</dt><dd>Ra Xih Tzuel Maya Lodge</dd>\\n<dt>City</dt><dd>Laguna</dd>\\n<dt>Country</dt><dd>BZ</dd>\\n<dt>Current Weather</dt><dd>few clouds and 89.6 °F</dd>\\n</dl>\\n',\n",
       " '\\n<dl>\\n<dt>Hotel Name</dt><dd>nan</dd>\\n<dt>City</dt><dd>San Cristobal</dd>\\n<dt>Country</dt><dd>HN</dd>\\n<dt>Current Weather</dt><dd>broken clouds and 87.13 °F</dd>\\n</dl>\\n',\n",
       " '\\n<dl>\\n<dt>Hotel Name</dt><dd>Best Western Route 66 Rail Haven</dd>\\n<dt>City</dt><dd>Springfield</dd>\\n<dt>Country</dt><dd>US</dd>\\n<dt>Current Weather</dt><dd>light rain and 86.0 °F</dd>\\n</dl>\\n',\n",
       " '\\n<dl>\\n<dt>Hotel Name</dt><dd>Palm Spring Hotel</dd>\\n<dt>City</dt><dd>Bartica</dd>\\n<dt>Country</dt><dd>GY</dd>\\n<dt>Current Weather</dt><dd>broken clouds and 93.2 °F</dd>\\n</dl>\\n',\n",
       " '\\n<dl>\\n<dt>Hotel Name</dt><dd>Hostel House Cuba</dd>\\n<dt>City</dt><dd>Benito Juarez</dd>\\n<dt>Country</dt><dd>CU</dd>\\n<dt>Current Weather</dt><dd>scattered clouds and 89.6 °F</dd>\\n</dl>\\n',\n",
       " '\\n<dl>\\n<dt>Hotel Name</dt><dd>nan</dd>\\n<dt>City</dt><dd>Matara</dd>\\n<dt>Country</dt><dd>BI</dd>\\n<dt>Current Weather</dt><dd>few clouds and 84.2 °F</dd>\\n</dl>\\n',\n",
       " '\\n<dl>\\n<dt>Hotel Name</dt><dd>Семеен хотел Братила</dd>\\n<dt>City</dt><dd>Alfatar</dd>\\n<dt>Country</dt><dd>BG</dd>\\n<dt>Current Weather</dt><dd>few clouds and 84.99 °F</dd>\\n</dl>\\n',\n",
       " '\\n<dl>\\n<dt>Hotel Name</dt><dd>nan</dd>\\n<dt>City</dt><dd>Moron</dd>\\n<dt>Country</dt><dd>HT</dd>\\n<dt>Current Weather</dt><dd>clear sky and 84.25 °F</dd>\\n</dl>\\n',\n",
       " '\\n<dl>\\n<dt>Hotel Name</dt><dd>Hotel Cosmopolita Roma</dd>\\n<dt>City</dt><dd>Roma</dd>\\n<dt>Country</dt><dd>IT</dd>\\n<dt>Current Weather</dt><dd>thunderstorm and 86.0 °F</dd>\\n</dl>\\n',\n",
       " '\\n<dl>\\n<dt>Hotel Name</dt><dd>Chez Felicia</dd>\\n<dt>City</dt><dd>Saint-Augustin</dd>\\n<dt>Country</dt><dd>CA</dd>\\n<dt>Current Weather</dt><dd>few clouds and 80.01 °F</dd>\\n</dl>\\n',\n",
       " \"\\n<dl>\\n<dt>Hotel Name</dt><dd>'t Bed & de Tafel</dd>\\n<dt>City</dt><dd>Moen</dd>\\n<dt>Country</dt><dd>BE</dd>\\n<dt>Current Weather</dt><dd>clear sky and 90.0 °F</dd>\\n</dl>\\n\"]"
      ]
     },
     "execution_count": 6,
     "metadata": {},
     "output_type": "execute_result"
    }
   ],
   "source": [
    "hotel_info"
   ]
  },
  {
   "cell_type": "code",
   "execution_count": 7,
   "metadata": {},
   "outputs": [
    {
     "data": {
      "application/vnd.jupyter.widget-view+json": {
       "model_id": "f1199f82d00b45e4bf6b0eae4dd03179",
       "version_major": 2,
       "version_minor": 0
      },
      "text/plain": [
       "Figure(layout=FigureLayout(height='420px'))"
      ]
     },
     "metadata": {},
     "output_type": "display_data"
    }
   ],
   "source": [
    "# Add marker layer ontop of heat map\n",
    "marker_layer = gmaps.marker_layer(locations, info_box_content=hotel_info)\n",
    "fig = gmaps.figure()\n",
    "fig.add_layer(marker_layer)\n",
    "\n",
    "# Display figure\n",
    "fig\n"
   ]
  },
  {
   "cell_type": "markdown",
   "metadata": {},
   "source": [
    "### From the map above pick 4 cities and for a vacation itinerary and create a route to travel between the cities. \n",
    "----\n",
    "Hint: Create four different DataFrames, one for each city. "
   ]
  },
  {
   "cell_type": "code",
   "execution_count": 7,
   "metadata": {},
   "outputs": [],
   "source": [
    "# Filter the 'vacation_df' for the three cities.\n",
    "vacation_stop1 = vacation_df.loc[vacation_df[\"City\"] == \"Sainte-Maxime\"]\n",
    "vacation_stop2 = vacation_df.loc[vacation_df[\"City\"] == \"Saint-Joseph\"]\n",
    "vacation_stop3 = vacation_df.loc[vacation_df[\"City\"] == \"Roma\"] \n",
    "vacation_stop4 = vacation_df.loc[vacation_df[\"City\"] == \"Nago\"] "
   ]
  },
  {
   "cell_type": "code",
   "execution_count": 8,
   "metadata": {},
   "outputs": [],
   "source": [
    "# Get latitude-longitude pairs for each city DataFrame\n",
    "stop1 = vacation_stop1[\"Lat\"].values[0], vacation_stop1[\"Lng\"].values[0]\n",
    "stop2 = vacation_stop2[\"Lat\"].values[0], vacation_stop2[\"Lng\"].values[0]\n",
    "stop3 = vacation_stop3[\"Lat\"].values[0], vacation_stop3[\"Lng\"].values[0]\n",
    "stop4 = vacation_stop4[\"Lat\"].values[0], vacation_stop3[\"Lng\"].values[0]"
   ]
  },
  {
   "cell_type": "code",
   "execution_count": 14,
   "metadata": {},
   "outputs": [
    {
     "data": {
      "application/vnd.jupyter.widget-view+json": {
       "model_id": "a36037d56a4a4129a3e7dea24f072ff6",
       "version_major": 2,
       "version_minor": 0
      },
      "text/plain": [
       "Figure(layout=FigureLayout(height='420px'))"
      ]
     },
     "metadata": {},
     "output_type": "display_data"
    }
   ],
   "source": [
    "fig = gmaps.figure()\n",
    "vacation_intinerary = gmaps.directions_layer(\n",
    "        stop1, stop2, waypoints=[stop3, stop4],\n",
    "        travel_mode='DRIVING')\n",
    "\n",
    "fig.add_layer(vacation_intinerary)\n",
    "fig"
   ]
  },
  {
   "cell_type": "markdown",
   "metadata": {},
   "source": [
    "## Create a marker layer that has the four cities from your vacation itinerary. \n",
    "----\n",
    "Hint: Add all four cities to one DataFrame to create the marker layer. "
   ]
  },
  {
   "cell_type": "code",
   "execution_count": 10,
   "metadata": {},
   "outputs": [],
   "source": [
    "itinerary_df = pd.concat([vacation_stop1, vacation_stop2,vacation_stop3, vacation_stop4])"
   ]
  },
  {
   "cell_type": "code",
   "execution_count": 11,
   "metadata": {},
   "outputs": [
    {
     "data": {
      "text/html": [
       "<div>\n",
       "<style scoped>\n",
       "    .dataframe tbody tr th:only-of-type {\n",
       "        vertical-align: middle;\n",
       "    }\n",
       "\n",
       "    .dataframe tbody tr th {\n",
       "        vertical-align: top;\n",
       "    }\n",
       "\n",
       "    .dataframe thead th {\n",
       "        text-align: right;\n",
       "    }\n",
       "</style>\n",
       "<table border=\"1\" class=\"dataframe\">\n",
       "  <thead>\n",
       "    <tr style=\"text-align: right;\">\n",
       "      <th></th>\n",
       "      <th>City_ID</th>\n",
       "      <th>City</th>\n",
       "      <th>Country</th>\n",
       "      <th>Max Temp</th>\n",
       "      <th>Current Description</th>\n",
       "      <th>Lat</th>\n",
       "      <th>Lng</th>\n",
       "      <th>Hotel Name</th>\n",
       "    </tr>\n",
       "  </thead>\n",
       "  <tbody>\n",
       "    <tr>\n",
       "      <th>0</th>\n",
       "      <td>75</td>\n",
       "      <td>Sainte-Maxime</td>\n",
       "      <td>FR</td>\n",
       "      <td>89.01</td>\n",
       "      <td>clear sky</td>\n",
       "      <td>43.31</td>\n",
       "      <td>6.64</td>\n",
       "      <td>Hôtel Les Jardins De Sainte Maxime</td>\n",
       "    </tr>\n",
       "    <tr>\n",
       "      <th>1</th>\n",
       "      <td>106</td>\n",
       "      <td>Saint-Joseph</td>\n",
       "      <td>FR</td>\n",
       "      <td>89.60</td>\n",
       "      <td>clear sky</td>\n",
       "      <td>43.56</td>\n",
       "      <td>6.97</td>\n",
       "      <td>Hôtel Château de la Tour</td>\n",
       "    </tr>\n",
       "    <tr>\n",
       "      <th>2</th>\n",
       "      <td>541</td>\n",
       "      <td>Roma</td>\n",
       "      <td>IT</td>\n",
       "      <td>86.00</td>\n",
       "      <td>thunderstorm</td>\n",
       "      <td>41.89</td>\n",
       "      <td>12.48</td>\n",
       "      <td>Hotel Cosmopolita Roma</td>\n",
       "    </tr>\n",
       "    <tr>\n",
       "      <th>3</th>\n",
       "      <td>321</td>\n",
       "      <td>Nago</td>\n",
       "      <td>IT</td>\n",
       "      <td>84.99</td>\n",
       "      <td>clear sky</td>\n",
       "      <td>45.88</td>\n",
       "      <td>10.89</td>\n",
       "      <td>Hotel Garda</td>\n",
       "    </tr>\n",
       "  </tbody>\n",
       "</table>\n",
       "</div>"
      ],
      "text/plain": [
       "   City_ID           City Country  Max Temp Current Description    Lat    Lng  \\\n",
       "0       75  Sainte-Maxime      FR     89.01           clear sky  43.31   6.64   \n",
       "1      106   Saint-Joseph      FR     89.60           clear sky  43.56   6.97   \n",
       "2      541           Roma      IT     86.00        thunderstorm  41.89  12.48   \n",
       "3      321           Nago      IT     84.99           clear sky  45.88  10.89   \n",
       "\n",
       "                           Hotel Name  \n",
       "0  Hôtel Les Jardins De Sainte Maxime  \n",
       "1            Hôtel Château de la Tour  \n",
       "2              Hotel Cosmopolita Roma  \n",
       "3                         Hotel Garda  "
      ]
     },
     "execution_count": 11,
     "metadata": {},
     "output_type": "execute_result"
    }
   ],
   "source": [
    "itinerary_df.reset_index(drop=True)"
   ]
  },
  {
   "cell_type": "code",
   "execution_count": 12,
   "metadata": {},
   "outputs": [],
   "source": [
    "# Using the template add the hotel marks to the heatmap\n",
    "info_box_template = \"\"\"\n",
    "<dl>\n",
    "<dt>Hotel Name</dt><dd>{Hotel Name}</dd>\n",
    "<dt>City</dt><dd>{City}</dd>\n",
    "<dt>Country</dt><dd>{Country}</dd>\n",
    "<dt>Current Weather</dt><dd>{Current Description} and {Max Temp} °F</dd>\n",
    "</dl>\n",
    "\"\"\"\n",
    "# Store the DataFrame Row\n",
    "hotel_info = [info_box_template.format(**row) for index, row in itinerary_df.iterrows()]\n",
    "locations = itinerary_df[[\"Lat\", \"Lng\"]]"
   ]
  },
  {
   "cell_type": "code",
   "execution_count": 13,
   "metadata": {},
   "outputs": [
    {
     "data": {
      "application/vnd.jupyter.widget-view+json": {
       "model_id": "2058a9a89f6545be9275fcd249c677bd",
       "version_major": 2,
       "version_minor": 0
      },
      "text/plain": [
       "Figure(layout=FigureLayout(height='420px'))"
      ]
     },
     "metadata": {},
     "output_type": "display_data"
    }
   ],
   "source": [
    "# Add marker layer ontop of heat map\n",
    "marker_layer = gmaps.marker_layer(locations, info_box_content=hotel_info)\n",
    "fig = gmaps.figure()\n",
    "fig.add_layer(marker_layer)\n",
    "\n",
    "# Display figure\n",
    "fig"
   ]
  },
  {
   "cell_type": "code",
   "execution_count": null,
   "metadata": {},
   "outputs": [],
   "source": []
  },
  {
   "cell_type": "code",
   "execution_count": null,
   "metadata": {},
   "outputs": [],
   "source": []
  }
 ],
 "metadata": {
  "kernelspec": {
   "display_name": "PythonData",
   "language": "python",
   "name": "pythondata"
  },
  "language_info": {
   "codemirror_mode": {
    "name": "ipython",
    "version": 3
   },
   "file_extension": ".py",
   "mimetype": "text/x-python",
   "name": "python",
   "nbconvert_exporter": "python",
   "pygments_lexer": "ipython3",
   "version": "3.7.6"
  },
  "latex_envs": {
   "LaTeX_envs_menu_present": true,
   "autoclose": false,
   "autocomplete": true,
   "bibliofile": "biblio.bib",
   "cite_by": "apalike",
   "current_citInitial": 1,
   "eqLabelWithNumbers": true,
   "eqNumInitial": 1,
   "hotkeys": {
    "equation": "Ctrl-E",
    "itemize": "Ctrl-I"
   },
   "labels_anchors": false,
   "latex_user_defs": false,
   "report_style_numbering": false,
   "user_envs_cfg": false
  }
 },
 "nbformat": 4,
 "nbformat_minor": 2
}
